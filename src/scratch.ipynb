{
 "cells": [
  {
   "cell_type": "code",
   "execution_count": 11,
   "metadata": {},
   "outputs": [
    {
     "name": "stderr",
     "output_type": "stream",
     "text": [
      "Failed to send telemetry event ClientStartEvent: module 'chromadb' has no attribute 'get_settings'\n"
     ]
    },
    {
     "name": "stdout",
     "output_type": "stream",
     "text": [
      "Successfully switched to pysqlite3-binary.\n"
     ]
    },
    {
     "name": "stderr",
     "output_type": "stream",
     "text": [
      "Failed to send telemetry event ClientCreateCollectionEvent: module 'chromadb' has no attribute 'get_settings'\n"
     ]
    },
    {
     "name": "stdout",
     "output_type": "stream",
     "text": [
      "Using/Created ChromaDB collection: research_papers_v1\n"
     ]
    }
   ],
   "source": [
    "try:\n",
    "    __import__('pysqlite3')\n",
    "    import sys\n",
    "    sys.modules['sqlite3'] = sys.modules.pop('pysqlite3')\n",
    "    print(\"Successfully switched to pysqlite3-binary.\")\n",
    "except ImportError:\n",
    "    print(\"pysqlite3-binary not found, using system sqlite3. THIS MAY CAUSE ISSUES.\")\n",
    "    pass # Fall back to system sqlite3 if pysqlite3-binary is not found, though this defeats the purpose for Chroma\n",
    "\n",
    "\n",
    "import chromadb \n",
    "import torch\n",
    "from sentence_transformers import SentenceTransformer\n",
    "\n",
    "\n",
    "device = 'cuda' if torch.cuda.is_available() else 'cpu'\n",
    "\n",
    "### Configuration\n",
    "VECTOR_DB_PATH = \"../chroma_db_store\"\n",
    "COLLECTION_NAME = \"research_papers_v1\" # For versioning\n",
    "EMBEDDING_MODEL_NAME = 'all-MiniLM-L6-v2'\n",
    "\n",
    "# Initialize Chroma DB\n",
    "chroma_client = chromadb.PersistentClient(path = VECTOR_DB_PATH)\n",
    "\n",
    "embedding_model = SentenceTransformer(EMBEDDING_MODEL_NAME, device=device)\n",
    "\n",
    "try:\n",
    "    collection = chroma_client.get_or_create_collection(name = COLLECTION_NAME)\n",
    "    print(f\"Using/Created ChromaDB collection: {COLLECTION_NAME}\")\n",
    "except Exception as e:\n",
    "    print(f\"Error with ChromaDB collection: {e}\")\n",
    "    exit()"
   ]
  },
  {
   "cell_type": "code",
   "execution_count": 12,
   "metadata": {},
   "outputs": [
    {
     "name": "stdout",
     "output_type": "stream",
     "text": [
      "Query: 'What is the main focus of transformer models?'\n",
      "  Result 1 (ID: 2005.11401v4.pdf_chunk_43, Distance: 1.2025):\n",
      "    Source: 2005.11401v4.pdf\n",
      "    Text: ComputationalLinguistics. doi: 10.18653/v1/P19-1346. URLhttps://www.aclweb.org/\n",
      "anthology/P19-1346.\n",
      "[13] Angela Fan, Claire Gardent, Chloe Braud, and Antoine Bordes. Augmenting transformers\n",
      "withKNN-basedcompositememory, 2020. URLhttps://openreview.net/forum?id=\n",
      "H1gx1CNKPH.\n",
      "[14] ThibaultFévry,LivioBa...\n",
      "  Result 2 (ID: 2302.04761v1.pdf_chunk_64, Distance: 1.2068):\n",
      "    Source: 2302.04761v1.pdf\n",
      "    Text: Zhou, Chung-Ching Chang, Igor Krivokon, Will\n",
      "Rusch, Marc Pickett, Pranesh Srinivasan, Laichee\n",
      "Man, Kathleen Meier-Hellstern, Meredith Ringel\n",
      "Morris, Tulsee Doshi, Renelito Delos Santos, Toju\n",
      "Duke, Johnny Soraker, Ben Zevenbergen, Vinod-\n",
      "kumar Prabhakaran, Mark Diaz, Ben Hutchinson,\n",
      "Kristen Olson, Al...\n",
      "  Result 3 (ID: 2002.08909v1.pdf_chunk_31, Distance: 1.2447):\n",
      "    Source: 2002.08909v1.pdf\n",
      "    Text: DrQA(Chenetal.,2017) SparseRetr.+DocReader N/A - 20.7 25.7 34m\n",
      "HardEM(Minetal.,2019a) SparseRetr.+Transformer BERT 28.1 - - 110m\n",
      "GraphRetriever(Minetal.,2019b) GraphRetriever+Transformer BERT 31.8 31.6 - 110m\n",
      "PathRetriever(Asaietal.,2019) PathRetriever+Transformer MLM 32.6 - - 110m\n",
      "ORQA(Leeetal.,201...\n",
      "  Result 4 (ID: 2004.04906v3.pdf_chunk_46, Distance: 1.4203):\n",
      "    Source: 2004.04906v3.pdf\n",
      "    Text: deep bidirectional transformers for language under- 364.\n",
      "standing. In North American Association for Com-\n",
      "putationalLinguistics(NAACL). Tom Kwiatkowski, Jennimaria Palomaki, Olivia Red-\n",
      "field, MichaelCollins, AnkurParikh, ChrisAlberti,\n",
      "DavidAFerrucci.2012. Introductionto“ThisisWat- DanielleEpstein,I...\n",
      "  Result 5 (ID: 2007.01282v2.pdf_chunk_14, Distance: 1.4247):\n",
      "    Source: 2007.01282v2.pdf\n",
      "    Text: withthestandardexactmatchmetric(EM),asin- allysimple,thismethodoutperformsexistingwork\n",
      "troducedbyRajpurkaretal.(2016). Agenerated ontheNaturalQuestionandTriviaQAbenchmarks.\n",
      "answerisconsideredcorrectifitmatchesanyan- In particular, generative models seem to perform\n",
      "swerofthelistofacceptableanswersaft...\n"
     ]
    }
   ],
   "source": [
    "sample_query = \"What is the main focus of transformer models?\"\n",
    "\n",
    "query_embedding = embedding_model.encode(sample_query).tolist()\n",
    "\n",
    "results = collection.query(\n",
    "    query_embeddings = [query_embedding], \n",
    "    n_results = 5, \n",
    "    include = ['documents', 'metadatas', 'distances']\n",
    ")\n",
    "\n",
    "print(f\"Query: '{sample_query}'\")\n",
    "if results and results['ids'][0]:\n",
    "    for i in range(len(results['ids'][0])):\n",
    "        print(f\"  Result {i+1} (ID: {results['ids'][0][i]}, Distance: {results['distances'][0][i]:.4f}):\")\n",
    "        print(f\"    Source: {results['metadatas'][0][i]['source_pdf']}\")\n",
    "        print(f\"    Text: {results['documents'][0][i][:300]}...\")\n",
    "else:\n",
    "    print(\"No results found for the sample query.\")"
   ]
  },
  {
   "cell_type": "code",
   "execution_count": null,
   "metadata": {},
   "outputs": [],
   "source": []
  }
 ],
 "metadata": {
  "kernelspec": {
   "display_name": "Python 3",
   "language": "python",
   "name": "python3"
  },
  "language_info": {
   "codemirror_mode": {
    "name": "ipython",
    "version": 3
   },
   "file_extension": ".py",
   "mimetype": "text/x-python",
   "name": "python",
   "nbconvert_exporter": "python",
   "pygments_lexer": "ipython3",
   "version": "3.9.23"
  }
 },
 "nbformat": 4,
 "nbformat_minor": 2
}
